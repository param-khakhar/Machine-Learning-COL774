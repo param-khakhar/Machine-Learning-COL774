{
 "cells": [
  {
   "cell_type": "code",
   "execution_count": 1,
   "metadata": {},
   "outputs": [],
   "source": [
    "import numpy as np\n",
    "import pandas as pd\n",
    "from matplotlib import pyplot as plt\n",
    "import time"
   ]
  },
  {
   "cell_type": "code",
   "execution_count": 3,
   "metadata": {},
   "outputs": [],
   "source": [
    "train_df = pd.read_csv('../data/decision_tree/train.csv')\n",
    "val_df = pd.read_csv('../data/decision_tree/val.csv')\n",
    "test_df = pd.read_csv('../data/decision_tree/test.csv')"
   ]
  },
  {
   "cell_type": "code",
   "execution_count": 4,
   "metadata": {},
   "outputs": [],
   "source": [
    "Xtrain = train_df[train_df.columns[:-1]]\n",
    "ytrain = train_df[train_df.columns[-1]]\n",
    "Xval = val_df[val_df.columns[:-1]]\n",
    "yval = val_df[val_df.columns[-1]]\n",
    "Xtest = test_df[test_df.columns[:-1]]\n",
    "ytest = test_df[test_df.columns[-1]]"
   ]
  },
  {
   "cell_type": "code",
   "execution_count": 5,
   "metadata": {},
   "outputs": [
    {
     "data": {
      "text/plain": [
       "(116157, 54)"
      ]
     },
     "execution_count": 5,
     "metadata": {},
     "output_type": "execute_result"
    }
   ],
   "source": [
    "Xtest.shape"
   ]
  },
  {
   "cell_type": "code",
   "execution_count": 5,
   "metadata": {},
   "outputs": [],
   "source": [
    "def predictions(root,X):\n",
    "\n",
    "    X = X.values\n",
    "    ypred = []\n",
    "    m = X.shape[0]\n",
    "    for i in range(m):\n",
    "        x = X[i]\n",
    "        curr = root\n",
    "        while curr and (curr.left or curr.right or len(curr.children) > 0):\n",
    "\n",
    "            Xj = curr.attribute\n",
    "            #print(Xj)\n",
    "            if curr.cont:\n",
    "                if x[Xj] <= curr.value:\n",
    "                    curr = curr.left\n",
    "                else:\n",
    "                    curr = curr.right\n",
    "            else:\n",
    "                curr = curr.children[x[Xj]]\n",
    "\n",
    "        if curr:\n",
    "            ypred.append(curr.label)\n",
    "        else:\n",
    "            ypred.append(-1)\n",
    "\n",
    "    return np.array(ypred)"
   ]
  },
  {
   "cell_type": "code",
   "execution_count": 5,
   "metadata": {},
   "outputs": [],
   "source": [
    "def entropy(y):\n",
    "    # Computes H(y) for the dataset provided\n",
    "    unique_val = np.unique(y)\n",
    "    count = []\n",
    "    for v in unique_val:\n",
    "        count.append(np.count_nonzero(y == v))\n",
    "    \n",
    "    count = np.array(count)\n",
    "    count = count / np.sum(count)\n",
    "    \n",
    "    return np.sum(-count * np.log2(count))\n",
    "\n",
    "class Node:\n",
    "    \n",
    "    def __init__(self,attribute = None, label = None):\n",
    "        self.attribute = attribute              # Attribute (index) on which the node is splitted.\n",
    "        self.children = {}                      # List of children where the individual elements are Nodes.\n",
    "        self.label = label                      # The majority class at that attribute.\n",
    "        self.left = None                        # Left child in case of splitting a continuous attribute. Contains values of Xj lesser than the median.\n",
    "        self.right = None                       # Right child in case of splitting a continuous attriute. Contains values of Xj greater than the median.\n",
    "        self.cont = False                       # True if the attribute is continuous\n",
    "        self.value = None                       # Value of the attribute which is used for making the split.\n",
    "        self.parent = None                      # The parent pointer for the nodes.\n",
    "        self.isLeaf = False                     # Boolean variable indicating whether the node is leaf or not.\n",
    "        self.id = None                          # Unique id assigned to each node\n",
    "        self.inf_gain = None                    # The information_gain at this node\n",
    "\n",
    "    \n",
    "    def __lt__(self, other):\n",
    "        return self.inf_gain > other.inf_gain\n",
    "\n",
    "def CreateLeaf(label):\n",
    "    n = Node(label = label)\n",
    "    return n\n",
    "\n",
    "class DecisionTree:\n",
    "    \n",
    "    def __init__(self):\n",
    "        \n",
    "        self.root = None\n",
    "        self.cont = None\n",
    "        self.disc = None\n",
    "        self.acc_test = []\n",
    "        self.acc_val = []\n",
    "        self.acc_train = []\n",
    "    \n",
    "    def ChooseBestAttrToSplit(self,X,y):\n",
    "        \n",
    "        cols = X.shape[1]\n",
    "        inf_gain = -np.inf\n",
    "        bestattr = -1\n",
    "        h_y = entropy(y)\n",
    "        for i in range(cols):\n",
    "            h_y_x = 0\n",
    "            if np.count_nonzero(self.cont == i):\n",
    "                med = np.median(X[:,i])\n",
    "                \n",
    "                mask1 = (X[:,i] <= med)\n",
    "                h_y_x += np.mean(mask1)*entropy(y[mask1])\n",
    "    \n",
    "                mask2 = (X[:,i] > med)\n",
    "                h_y_x += np.mean(mask2)*entropy(y[mask2])\n",
    "            \n",
    "            else:\n",
    "                # Discrete Feature\n",
    "                values = np.unique(X[:,i])\n",
    "                for v in values:\n",
    "                    mask = (X[:,i] == v)\n",
    "                    h_y_x +=  np.mean(mask)*entropy(y[mask])\n",
    "                \n",
    "            diff = h_y - h_y_x\n",
    "            if diff > inf_gain:\n",
    "                inf_gain = diff\n",
    "                bestattr = i\n",
    "        return bestattr,inf_gain\n",
    "            \n",
    "    def GrowTree(self,X,y):\n",
    "        \n",
    "        if np.unique(y).shape[0] == 1:\n",
    "            #print(\"Here\")\n",
    "            return CreateLeaf(label = y[0])\n",
    "\n",
    "        Xj,inf_gain = self.ChooseBestAttrToSplit(X,y)\n",
    "        #print(Xj,height)\n",
    "        sepCol = X[:,Xj]\n",
    "        parent = Node(attribute=Xj)\n",
    "        parent.inf_gain = inf_gain\n",
    "        \n",
    "        if np.count_nonzero(self.cont == Xj):\n",
    "            \n",
    "            # Splitting for Continuous features\n",
    "            \n",
    "            sep = np.median(sepCol)\n",
    "            mask1 = (X[:,Xj] <= sep)\n",
    "            mask2 = (X[:,Xj] > sep)\n",
    "            if np.sum(mask1) > 0 and np.sum(mask2) > 0:\n",
    "                \n",
    "                subX = X[mask1]\n",
    "                subY = y[mask1]\n",
    "                child = self.GrowTree(subX,subY,height + 1)\n",
    "                parent.left = child\n",
    "                child.parent = parent\n",
    "                \n",
    "                subX = X[mask2]\n",
    "                subY = y[mask2]\n",
    "\n",
    "                child = self.GrowTree(subX,subY)\n",
    "                parent.right = child\n",
    "                child.parent = parent\n",
    "\n",
    "                parent.value = sep\n",
    "                parent.cont = True\n",
    "                \n",
    "            else:\n",
    "                # Termination condition where there are non-empty left and right splits.\n",
    "                val = np.bincount(y)\n",
    "                parent.label = np.argmax(val)\n",
    "            \n",
    "        else:\n",
    "            \n",
    "            # Splitting for discrete features.\n",
    "            \n",
    "            unique = np.unique(sepCol)\n",
    "            for i in unique:\n",
    "                mask = (X[:,Xj] == i)\n",
    "                subX = X[mask]\n",
    "                subY = y[mask]\n",
    "                child = self.GrowTree(subX,subY)\n",
    "                child.parent = parent\n",
    "                parent.children[i] = child\n",
    "                \n",
    "        return parent\n",
    "    \n",
    "    def iter_GrowTree(self,X,y,Xtest,ytest,Xval,yval):\n",
    "        \n",
    "        Xstack = []\n",
    "        ystack = []\n",
    "        childStack = []\n",
    "        root = Node()\n",
    "        childStack.append(root)\n",
    "        Xstack.append(X)\n",
    "        ystack.append(y)\n",
    "        nodes = 0\n",
    "        \n",
    "        while len(childStack) > 0:\n",
    "\n",
    "            curr = childStack.pop()\n",
    "            \n",
    "            currX = Xstack.pop()\n",
    "            curry = ystack.pop()\n",
    "            \n",
    "            if np.unique(curry).shape[0] == 1:\n",
    "                curr.label = curry[0]\n",
    "                curr.isLeaf = True\n",
    "\n",
    "            else:\n",
    "                Xj,inf_gain = self.ChooseBestAttrToSplit(currX,curry)\n",
    "                curr.inf_gain = inf_gain\n",
    "                curr.attribute = Xj\n",
    "                curr.label = np.argmax(np.bincount(curry))\n",
    "                sepCol = currX[:,Xj]\n",
    "\n",
    "                if np.count_nonzero(self.cont == Xj):\n",
    "\n",
    "                    sep = np.median(sepCol)\n",
    "                    mask1 = (currX[:,Xj] <= sep)\n",
    "                    mask2 = (currX[:,Xj] > sep)\n",
    "                    if np.sum(mask1) > 0 and np.sum(mask2) > 0:\n",
    "\n",
    "                        subX = currX[mask2]\n",
    "                        subY = curry[mask2]\n",
    "\n",
    "                        child = Node()\n",
    "                        curr.right = child\n",
    "                        child.parent = curr\n",
    "\n",
    "                        childStack.append(child)\n",
    "                        Xstack.append(subX)\n",
    "                        ystack.append(subY)\n",
    "\n",
    "                        subX = currX[mask1]\n",
    "                        subY = curry[mask1]\n",
    "                        child = Node()\n",
    "                        curr.left = child\n",
    "                        child.parent = curr\n",
    "\n",
    "                        childStack.append(child)\n",
    "                        Xstack.append(subX)\n",
    "                        ystack.append(subY)\n",
    "\n",
    "                        curr.value = sep\n",
    "                        curr.cont = True\n",
    "                    else:\n",
    "                        val = np.bincount(y)\n",
    "                        curr.label = np.argmax(val)\n",
    "                else:\n",
    "                    unique = np.unique(sepCol)\n",
    "                    for i in unique:\n",
    "                        mask = (currX[:,Xj] == i)\n",
    "                        subX = currX[mask]\n",
    "                        subY = curry[mask]\n",
    "                        child = Node()\n",
    "                        curr.children[i] = child\n",
    "                        child.parent = curr\n",
    "                        childStack.append(child)\n",
    "                        Xstack.append(subX)\n",
    "                        ystack.append(subY)\n",
    "                \n",
    "            #print(nodes)\n",
    "            #if nodes % 1000 == 0:\n",
    "                #ypred = predictions(root,Xtrain)\n",
    "                #acc = np.mean(ypred == y)\n",
    "                #print(\"Train:\",acc)\n",
    "                #self.acc_train.append(acc)\n",
    "                #ypred = predictions(root,Xtest)\n",
    "                #acc = np.mean(ypred == ytest.values)\n",
    "                #print(\"Test:\",acc)\n",
    "                #self.acc_test.append(acc)\n",
    "                #ypred = predictions(root,Xval)\n",
    "                #acc = np.mean(ypred == yval.values)\n",
    "                #print(\"Val:\",acc)\n",
    "                #self.acc_val.append(acc)\n",
    "                #print(len(childStack),len(ystack))\n",
    "            curr.id = nodes\n",
    "            nodes += 1\n",
    "            \n",
    "        return root\n",
    "            \n",
    "            \n",
    "    def fit(self,X,y):\n",
    "        # X and y are pandas dataframes with the column labels stating whether a feature is continuous or discrete\n",
    "        \n",
    "        #Segreagating continuous and discrete features and storing their indices\n",
    "        \n",
    "        cols = X.columns\n",
    "        cont = []\n",
    "        for i in range(len(cols)):\n",
    "            if cols[i][-8:] == \"Discrete\":\n",
    "                continue\n",
    "            else:\n",
    "                cont.append(i)\n",
    "        self.cont = np.array(cont)\n",
    "        self.root = self.GrowTree(X.values,y.values,0)\n",
    "        \n",
    "    def iter_fit(self,X,y,Xtest,ytest,Xval,yval):\n",
    "        # Function for fitting to the iterative version of train. Also used for generating the data for the plot.\n",
    "        cols = X.columns\n",
    "        cont = []\n",
    "        for i in range(len(cols)):\n",
    "            if cols[i][-8:] == \"Discrete\":\n",
    "                continue\n",
    "            else:\n",
    "                cont.append(i)\n",
    "        self.cont = np.array(cont)\n",
    "        self.root = self.iter_GrowTree(X.values,y.values,Xtest,ytest,Xval,yval)\n",
    "        \n",
    "        \n",
    "    def predict(self,X):\n",
    "        # Function for predicting the labels for the instances. Returns an np array corresponding of size X.shape[0]\n",
    "        X = X.values\n",
    "        ypred = []\n",
    "        m = X.shape[0]\n",
    "        for i in range(m):\n",
    "            x = X[i]\n",
    "            curr = self.root\n",
    "            while curr and (curr.left or curr.right or len(curr.children) > 0):\n",
    "\n",
    "                Xj = curr.attribute\n",
    "                #print(Xj)\n",
    "                if curr.cont:\n",
    "                    if x[Xj] <= curr.value:\n",
    "                        curr = curr.left\n",
    "                    else:\n",
    "                        curr = curr.right\n",
    "                else:\n",
    "                    curr = curr.children[x[Xj]]\n",
    "            \n",
    "            if curr:\n",
    "                ypred.append(curr.label)\n",
    "            else:\n",
    "                ypred.append(-1)\n",
    "                \n",
    "        return np.array(ypred)\n",
    "    \n",
    "    def score(self,X,y):\n",
    "        # Returns the accuracy score for the predictions made\n",
    "        ypreds = self.predict(X)\n",
    "        return np.mean(ypreds == y.values)"
   ]
  },
  {
   "cell_type": "code",
   "execution_count": 54,
   "metadata": {
    "scrolled": true
   },
   "outputs": [
    {
     "name": "stdout",
     "output_type": "stream",
     "text": [
      "Training Time: 226.14084672927856\n"
     ]
    }
   ],
   "source": [
    "# Code for training the dtr using the recursive function\n",
    "start = time.time()\n",
    "dtr_rec = DecisionTree()\n",
    "dtr_rec.fit(Xtrain,ytrain)\n",
    "end = time.time()\n",
    "print(\"Training Time:\",end-start)"
   ]
  },
  {
   "cell_type": "code",
   "execution_count": 15,
   "metadata": {},
   "outputs": [
    {
     "name": "stdout",
     "output_type": "stream",
     "text": [
      "Training Time: 205.93845176696777\n"
     ]
    }
   ],
   "source": [
    "# Code for training dtr using the iterative function\n",
    "start = time.time()\n",
    "dtr_iter = DecisionTree()\n",
    "dtr_iter.iter_fit(Xtrain,ytrain,Xtest,ytest,Xval,yval)\n",
    "end = time.time()\n",
    "print(\"Training Time:\",end-start)"
   ]
  },
  {
   "cell_type": "code",
   "execution_count": 13,
   "metadata": {},
   "outputs": [
    {
     "data": {
      "text/plain": [
       "0.9018378891228878"
      ]
     },
     "execution_count": 13,
     "metadata": {},
     "output_type": "execute_result"
    }
   ],
   "source": [
    "val_score = dtr_iter.score(Xval,yval)\n",
    "val_score"
   ]
  },
  {
   "cell_type": "code",
   "execution_count": 9,
   "metadata": {},
   "outputs": [
    {
     "data": {
      "text/plain": [
       "0.9999938599453535"
      ]
     },
     "execution_count": 9,
     "metadata": {},
     "output_type": "execute_result"
    }
   ],
   "source": [
    "dtr_iter.score(Xtrain,ytrain)"
   ]
  },
  {
   "cell_type": "code",
   "execution_count": 10,
   "metadata": {},
   "outputs": [
    {
     "data": {
      "text/plain": [
       "0.902252985183846"
      ]
     },
     "execution_count": 10,
     "metadata": {},
     "output_type": "execute_result"
    }
   ],
   "source": [
    "dtr_iter.score(Xtest,ytest)"
   ]
  },
  {
   "cell_type": "code",
   "execution_count": 89,
   "metadata": {},
   "outputs": [
    {
     "data": {
      "image/png": "[encoded data removed]",
      "text/plain": [
       "<Figure size 432x288 with 1 Axes>"
      ]
     },
     "metadata": {
      "needs_background": "light"
     },
     "output_type": "display_data"
    }
   ],
   "source": [
    "from matplotlib import pyplot as plt\n",
    "\n",
    "fig,ax = plt.subplots()\n",
    "ax.plot([i for i in range(len(dtr_iter.acc_train))],dtr_iter.acc_train,label = \"Train Accuracy\")\n",
    "ax.plot([i for i in range(len(dtr_iter.acc_test))],dtr_iter.acc_test,label = \"Test Accuracy\")\n",
    "ax.plot([i for i in range(len(dtr_iter.acc_val))],dtr_iter.acc_val,label = \"Validation Accuracy\")\n",
    "ax.legend(loc = 'best')\n",
    "ax.set_xlabel(\"No. of nodes in 1000\")\n",
    "ax.set_ylabel(\"Accuracy\")\n",
    "ax.set_title(\"Decision Tree Accuracy on adding nodes\")\n",
    "fig.savefig('plot_dtr.png',dpi = 200)\n",
    "plt.show()"
   ]
  },
  {
   "cell_type": "code",
   "execution_count": 19,
   "metadata": {},
   "outputs": [],
   "source": [
    "def count(tree):\n",
    "    # Function for counting the number of nodes.\n",
    "    if tree and tree.children == None and tree.left == None and tree.right == None:\n",
    "        return 1\n",
    "    else:\n",
    "        nodes = 1\n",
    "        for child in tree.children.keys():\n",
    "            nodes += count(tree.children[child])\n",
    "        if tree.left:\n",
    "            nodes += count(tree.left)\n",
    "        if tree.right:\n",
    "            nodes += count(tree.right)\n",
    "    return nodes\n",
    "\n",
    "#count(dtr_rec.root)"
   ]
  },
  {
   "cell_type": "code",
   "execution_count": 47,
   "metadata": {},
   "outputs": [],
   "source": [
    "train_prune = []\n",
    "val_prune = []\n",
    "test_prune = []"
   ]
  },
  {
   "cell_type": "markdown",
   "metadata": {},
   "source": [
    "### Pruning Decision Trees"
   ]
  },
  {
   "cell_type": "code",
   "execution_count": 18,
   "metadata": {},
   "outputs": [],
   "source": [
    "def createNodeList(root,nodeError):\n",
    "    # This function fills the dictionary whose keys are the ids of the nodes and the values are intialized to 0.\n",
    "    nodeError[root.id] = 0\n",
    "    if root.cont:\n",
    "        createNodeList(root.left,nodeError)\n",
    "        createNodeList(root.right,nodeError)\n",
    "    else:\n",
    "        for child in root.children.keys():\n",
    "            createNodeList(root.children[child],nodeError)\n",
    "\n",
    "def countLeaves(root):\n",
    "    # Function for counting the number of leaves in the tree\n",
    "    if root.isLeaf:\n",
    "        return 1\n",
    "    else:\n",
    "        n = 0\n",
    "        if root.cont:\n",
    "            n += countLeaves(root.left)\n",
    "            n += countLeaves(root.right)\n",
    "        else:\n",
    "            for child in root.children.keys():\n",
    "                n += countLeaves(root.children[child])\n",
    "        return n\n",
    "\n",
    "def isTwig(root):\n",
    "    # A Twig is a node whose all children are leaves.\n",
    "    if not root.isLeaf:\n",
    "        if root.cont:\n",
    "            if (root.left.isLeaf) and (root.right.isLeaf):\n",
    "                return True\n",
    "            return False\n",
    "        else:\n",
    "            for child in root.children.keys():\n",
    "                if not root.children[child].isLeaf:\n",
    "                    return False\n",
    "            return True\n",
    "    else:\n",
    "        return False\n",
    "\n",
    "def classifyValidationDataInstance(root,x,y,nodeError):\n",
    "    # Each validation instance is passed down the tree and error is checked for each node if the predicted class is the majority label assigned to each node.\n",
    "    if root.label != y:\n",
    "        nodeError[root.id] += 1\n",
    "    if not root.isLeaf:\n",
    "        if root.cont:\n",
    "            if x[root.attribute] <= root.value:\n",
    "                child = root.left\n",
    "            else:\n",
    "                child = root.right\n",
    "        else:\n",
    "            child = root.children[x[root.attribute]]\n",
    "        classifyValidationDataInstance(child,x,y,nodeError)\n",
    "    return \n",
    "\n",
    "def classifyValidationData(root,Xval,yval):\n",
    "    # Errors computed for all the instances in the validation data.\n",
    "    Xval = Xval.values\n",
    "    yval = yval.values\n",
    "    nodeError = {}\n",
    "    createNodeList(root,nodeError)\n",
    "    m = Xval.shape[0]\n",
    "    for i in range(m):\n",
    "        x = Xval[i]\n",
    "        y = yval[i]\n",
    "        classifyValidationDataInstance(root,x,y,nodeError)\n",
    "    return nodeError\n",
    "\n",
    "def collectTwigsByErrorCount(root,nodeError,heap):\n",
    "    # For all the twigs, we calculate the error if we prune the children of the twigs. We insert the twig into a min-heap and the key for the\n",
    "    # heap is the difference between the errors of the parent and child.\n",
    "    if isTwig(root):\n",
    "        twigErrorIncrease = nodeError[root.id]\n",
    "        \n",
    "        if root.cont:\n",
    "            twigErrorIncrease -= nodeError[root.left.id]\n",
    "            twigErrorIncrease -= nodeError[root.right.id]\n",
    "            heap.append((twigErrorIncrease,root))\n",
    "            #heappush(heap,(twigErrorIncrease,root))\n",
    "        else:\n",
    "            for child in root.children.keys():\n",
    "                twigErrorIncrease -= nodeError[root.children[child].id]\n",
    "            heap.append((twigErrorIncrease,root))\n",
    "            #heappush(heap, (twigErrorIncrease,root))\n",
    "    else:\n",
    "        if root.cont:\n",
    "            collectTwigsByErrorCount(root.left,nodeError,heap)\n",
    "            collectTwigsByErrorCount(root.right,nodeError,heap)\n",
    "        else:\n",
    "            for child in root.children.keys():\n",
    "                collectTwigsByErrorCount(root.children[child],nodeError,heap)\n",
    "    return heap\n",
    "\n",
    "def pruneByClassification(root,Xval,yval):\n",
    "    # We prune out nodes until the key of the nodes(twigs) in the heap don't become >= 0. \n",
    "    nodeError = classifyValidationData(root,Xval,yval)\n",
    "    twigHeap = collectTwigsByErrorCount(root,nodeError,[])\n",
    "    totalLeaves = countLeaves(root)\n",
    "    \n",
    "    c = 0\n",
    "    \n",
    "    while True:\n",
    "        \n",
    "        twig = min(twigHeap)\n",
    "        twigHeap.remove(twig)\n",
    "        #twig = heappop(twigHeap)\n",
    "        \n",
    "        #if mn == twig:\n",
    "        #    print(\"Not true\")\n",
    "        \n",
    "        if twig[0] > 0:\n",
    "            break\n",
    "        \n",
    "        par = twig[1].parent\n",
    "        if twig[1].cont:\n",
    "            totalLeaves -= 1\n",
    "            \n",
    "            twig[1].left = None\n",
    "            twig[1].right = None\n",
    "            twig[1].isLeaf = True\n",
    "            twig[1].inf_gain = 0\n",
    "            \n",
    "        else:\n",
    "            totalLeaves -= len(twig[1].children)-1\n",
    "            twig[1].children = {}\n",
    "            twig[1].isLeaf = True\n",
    "            twig[1].inf_gain = 0\n",
    "            \n",
    "        if isTwig(par):\n",
    "            twigErrorIncrease = nodeError[par.id]\n",
    "            if par.cont:\n",
    "                twigErrorIncrease -= nodeError[par.left.id]\n",
    "                twigErrorIncrease -= nodeError[par.right.id]\n",
    "            else:\n",
    "                for child in par.children.keys():\n",
    "                    twigErrorIncrease -= nodeError[par.children[child].id]\n",
    "            \n",
    "            twigHeap.append((twigErrorIncrease,par))\n",
    "        #if c % 200 == 0:\n",
    "        #    val_prune.append(dtr_iter.score(Xval,yval))\n",
    "        #    train_prune.append(dtr_iter.score(Xtrain,ytrain))\n",
    "        #    test_prune.append(dtr_iter.score(Xtest,ytest))\n",
    "        c += 1\n",
    "    return"
   ]
  },
  {
   "cell_type": "code",
   "execution_count": 19,
   "metadata": {
    "scrolled": true
   },
   "outputs": [],
   "source": [
    "temp = dtr_iter.root\n",
    "pruneByClassification(temp,Xval,yval)"
   ]
  },
  {
   "cell_type": "code",
   "execution_count": 54,
   "metadata": {},
   "outputs": [
    {
     "data": {
      "image/png": "[encoded data removed]",
      "text/plain": [
       "<Figure size 432x288 with 1 Axes>"
      ]
     },
     "metadata": {
      "needs_background": "light"
     },
     "output_type": "display_data"
    }
   ],
   "source": [
    "from matplotlib import pyplot as plt\n",
    "\n",
    "fig,ax = plt.subplots()\n",
    "ax.plot([i for i in range(len(train_prune))],train_prune,label = \"Train Accuracy\")\n",
    "ax.plot([i for i in range(len(val_prune))],val_prune,label = \"Validation Accuracy\")\n",
    "ax.plot([i for i in range(len(test_prune))],test_prune,label = \"Test Accuracy\")\n",
    "ax.legend(loc = 'best')\n",
    "ax.set_xlabel(\"No. of nodes in 200's\")\n",
    "ax.set_ylabel(\"Accuracy\")\n",
    "ax.set_title(\"Decision Tree Accuracy on pruning nodes\")\n",
    "fig.savefig('../output/q1/plot_dtr_prune.png',dpi = 200)\n",
    "plt.show()"
   ]
  },
  {
   "cell_type": "code",
   "execution_count": 51,
   "metadata": {},
   "outputs": [
    {
     "data": {
      "text/plain": [
       "97"
      ]
     },
     "execution_count": 51,
     "metadata": {},
     "output_type": "execute_result"
    }
   ],
   "source": [
    "len(train_prune)"
   ]
  },
  {
   "cell_type": "code",
   "execution_count": 20,
   "metadata": {},
   "outputs": [
    {
     "ename": "NameError",
     "evalue": "name 'count' is not defined",
     "output_type": "error",
     "traceback": [
      "\u001b[0;31m---------------------------------------------------------------------------\u001b[0m",
      "\u001b[0;31mNameError\u001b[0m                                 Traceback (most recent call last)",
      "\u001b[0;32m<ipython-input-20-753c7a0178de>\u001b[0m in \u001b[0;36m<module>\u001b[0;34m\u001b[0m\n\u001b[0;32m----> 1\u001b[0;31m \u001b[0mcount\u001b[0m\u001b[0;34m(\u001b[0m\u001b[0mdtr_iter\u001b[0m\u001b[0;34m.\u001b[0m\u001b[0mroot\u001b[0m\u001b[0;34m)\u001b[0m\u001b[0;34m\u001b[0m\u001b[0;34m\u001b[0m\u001b[0m\n\u001b[0m",
      "\u001b[0;31mNameError\u001b[0m: name 'count' is not defined"
     ]
    }
   ],
   "source": [
    "count(dtr_iter.root)"
   ]
  },
  {
   "cell_type": "code",
   "execution_count": 21,
   "metadata": {},
   "outputs": [
    {
     "data": {
      "text/plain": [
       "0.9264269336649249"
      ]
     },
     "execution_count": 21,
     "metadata": {},
     "output_type": "execute_result"
    }
   ],
   "source": [
    "dtr_iter.score(Xval,yval)"
   ]
  },
  {
   "cell_type": "code",
   "execution_count": 13,
   "metadata": {},
   "outputs": [
    {
     "data": {
      "text/plain": [
       "0.9029244901297382"
      ]
     },
     "execution_count": 13,
     "metadata": {},
     "output_type": "execute_result"
    }
   ],
   "source": [
    "dtr_iter.score(Xtest,ytest)"
   ]
  },
  {
   "cell_type": "code",
   "execution_count": 14,
   "metadata": {},
   "outputs": [
    {
     "data": {
      "text/plain": [
       "0.9264269336649249"
      ]
     },
     "execution_count": 14,
     "metadata": {},
     "output_type": "execute_result"
    }
   ],
   "source": [
    "dtr_iter.score(Xval,yval)"
   ]
  },
  {
   "cell_type": "code",
   "execution_count": 57,
   "metadata": {},
   "outputs": [
    {
     "data": {
      "text/plain": [
       "0.9577625640868204"
      ]
     },
     "execution_count": 57,
     "metadata": {},
     "output_type": "execute_result"
    }
   ],
   "source": [
    "dtr_iter.score(Xtrain,ytrain)"
   ]
  },
  {
   "cell_type": "code",
   "execution_count": 4,
   "metadata": {},
   "outputs": [],
   "source": [
    "from sklearn.ensemble import RandomForestClassifier\n",
    "from sklearn.model_selection import ParameterGrid, GridSearchCV, PredefinedSplit\n",
    "\n",
    "param_grid = {'n_estimators': [i for i in range(50,500,100)],'max_features':[i for i in np.arange(0.1,1,0.2)],'min_samples_split':[i for i in range(2,12,2)]}"
   ]
  },
  {
   "cell_type": "code",
   "execution_count": 5,
   "metadata": {},
   "outputs": [
    {
     "data": {
      "text/plain": [
       "{'n_estimators': [50, 150, 250, 350, 450],\n",
       " 'max_features': [0.1,\n",
       "  0.30000000000000004,\n",
       "  0.5000000000000001,\n",
       "  0.7000000000000001,\n",
       "  0.9000000000000001],\n",
       " 'min_samples_split': [2, 4, 6, 8, 10]}"
      ]
     },
     "execution_count": 5,
     "metadata": {},
     "output_type": "execute_result"
    }
   ],
   "source": [
    "param_grid"
   ]
  },
  {
   "cell_type": "code",
   "execution_count": 5,
   "metadata": {},
   "outputs": [],
   "source": [
    "def oob_scorer(estimator, X, y):\n",
    "    return estimator.oob_score_"
   ]
  },
  {
   "cell_type": "code",
   "execution_count": 10,
   "metadata": {
    "scrolled": true
   },
   "outputs": [
    {
     "name": "stdout",
     "output_type": "stream",
     "text": [
      "Fitting 1 folds for each of 27 candidates, totalling 27 fits\n",
      "[CV] max_features=0.3, min_samples_split=4, n_estimators=150 .........\n"
     ]
    },
    {
     "name": "stderr",
     "output_type": "stream",
     "text": [
      "[Parallel(n_jobs=1)]: Using backend SequentialBackend with 1 concurrent workers.\n"
     ]
    },
    {
     "name": "stdout",
     "output_type": "stream",
     "text": [
      "[CV]  max_features=0.3, min_samples_split=4, n_estimators=150, score=0.957, total= 3.0min\n",
      "[CV] max_features=0.3, min_samples_split=4, n_estimators=250 .........\n"
     ]
    },
    {
     "name": "stderr",
     "output_type": "stream",
     "text": [
      "[Parallel(n_jobs=1)]: Done   1 out of   1 | elapsed:  3.0min remaining:    0.0s\n"
     ]
    },
    {
     "name": "stdout",
     "output_type": "stream",
     "text": [
      "[CV]  max_features=0.3, min_samples_split=4, n_estimators=250, score=0.958, total= 4.9min\n",
      "[CV] max_features=0.3, min_samples_split=4, n_estimators=350 .........\n"
     ]
    },
    {
     "name": "stderr",
     "output_type": "stream",
     "text": [
      "[Parallel(n_jobs=1)]: Done   2 out of   2 | elapsed:  8.0min remaining:    0.0s\n"
     ]
    },
    {
     "name": "stdout",
     "output_type": "stream",
     "text": [
      "[CV]  max_features=0.3, min_samples_split=4, n_estimators=350, score=0.958, total= 7.0min\n",
      "[CV] max_features=0.3, min_samples_split=6, n_estimators=150 .........\n"
     ]
    },
    {
     "name": "stderr",
     "output_type": "stream",
     "text": [
      "[Parallel(n_jobs=1)]: Done   3 out of   3 | elapsed: 15.0min remaining:    0.0s\n"
     ]
    },
    {
     "name": "stdout",
     "output_type": "stream",
     "text": [
      "[CV]  max_features=0.3, min_samples_split=6, n_estimators=150, score=0.956, total= 3.0min\n",
      "[CV] max_features=0.3, min_samples_split=6, n_estimators=250 .........\n"
     ]
    },
    {
     "name": "stderr",
     "output_type": "stream",
     "text": [
      "[Parallel(n_jobs=1)]: Done   4 out of   4 | elapsed: 18.0min remaining:    0.0s\n"
     ]
    },
    {
     "name": "stdout",
     "output_type": "stream",
     "text": [
      "[CV]  max_features=0.3, min_samples_split=6, n_estimators=250, score=0.956, total= 5.0min\n",
      "[CV] max_features=0.3, min_samples_split=6, n_estimators=350 .........\n"
     ]
    },
    {
     "name": "stderr",
     "output_type": "stream",
     "text": [
      "[Parallel(n_jobs=1)]: Done   5 out of   5 | elapsed: 23.0min remaining:    0.0s\n"
     ]
    },
    {
     "name": "stdout",
     "output_type": "stream",
     "text": [
      "[CV]  max_features=0.3, min_samples_split=6, n_estimators=350, score=0.957, total= 7.1min\n",
      "[CV] max_features=0.3, min_samples_split=8, n_estimators=150 .........\n"
     ]
    },
    {
     "name": "stderr",
     "output_type": "stream",
     "text": [
      "[Parallel(n_jobs=1)]: Done   6 out of   6 | elapsed: 30.1min remaining:    0.0s\n"
     ]
    },
    {
     "name": "stdout",
     "output_type": "stream",
     "text": [
      "[CV]  max_features=0.3, min_samples_split=8, n_estimators=150, score=0.954, total= 3.0min\n",
      "[CV] max_features=0.3, min_samples_split=8, n_estimators=250 .........\n"
     ]
    },
    {
     "name": "stderr",
     "output_type": "stream",
     "text": [
      "[Parallel(n_jobs=1)]: Done   7 out of   7 | elapsed: 33.1min remaining:    0.0s\n"
     ]
    },
    {
     "name": "stdout",
     "output_type": "stream",
     "text": [
      "[CV]  max_features=0.3, min_samples_split=8, n_estimators=250, score=0.954, total= 5.0min\n",
      "[CV] max_features=0.3, min_samples_split=8, n_estimators=350 .........\n"
     ]
    },
    {
     "name": "stderr",
     "output_type": "stream",
     "text": [
      "[Parallel(n_jobs=1)]: Done   8 out of   8 | elapsed: 38.1min remaining:    0.0s\n"
     ]
    },
    {
     "name": "stdout",
     "output_type": "stream",
     "text": [
      "[CV]  max_features=0.3, min_samples_split=8, n_estimators=350, score=0.955, total= 6.6min\n",
      "[CV] max_features=0.5, min_samples_split=4, n_estimators=150 .........\n"
     ]
    },
    {
     "name": "stderr",
     "output_type": "stream",
     "text": [
      "[Parallel(n_jobs=1)]: Done   9 out of   9 | elapsed: 44.6min remaining:    0.0s\n"
     ]
    },
    {
     "name": "stdout",
     "output_type": "stream",
     "text": [
      "[CV]  max_features=0.5, min_samples_split=4, n_estimators=150, score=0.961, total= 4.6min\n",
      "[CV] max_features=0.5, min_samples_split=4, n_estimators=250 .........\n",
      "[CV]  max_features=0.5, min_samples_split=4, n_estimators=250, score=0.962, total= 8.9min\n",
      "[CV] max_features=0.5, min_samples_split=4, n_estimators=350 .........\n",
      "[CV]  max_features=0.5, min_samples_split=4, n_estimators=350, score=0.962, total=12.2min\n",
      "[CV] max_features=0.5, min_samples_split=6, n_estimators=150 .........\n",
      "[CV]  max_features=0.5, min_samples_split=6, n_estimators=150, score=0.960, total= 4.7min\n",
      "[CV] max_features=0.5, min_samples_split=6, n_estimators=250 .........\n",
      "[CV]  max_features=0.5, min_samples_split=6, n_estimators=250, score=0.960, total= 7.5min\n",
      "[CV] max_features=0.5, min_samples_split=6, n_estimators=350 .........\n",
      "[CV]  max_features=0.5, min_samples_split=6, n_estimators=350, score=0.961, total=10.8min\n",
      "[CV] max_features=0.5, min_samples_split=8, n_estimators=150 .........\n",
      "[CV]  max_features=0.5, min_samples_split=8, n_estimators=150, score=0.958, total= 5.2min\n",
      "[CV] max_features=0.5, min_samples_split=8, n_estimators=250 .........\n",
      "[CV]  max_features=0.5, min_samples_split=8, n_estimators=250, score=0.959, total= 7.9min\n",
      "[CV] max_features=0.5, min_samples_split=8, n_estimators=350 .........\n",
      "[CV]  max_features=0.5, min_samples_split=8, n_estimators=350, score=0.959, total= 9.5min\n",
      "[CV] max_features=0.7, min_samples_split=4, n_estimators=150 .........\n",
      "[CV]  max_features=0.7, min_samples_split=4, n_estimators=150, score=0.962, total= 5.4min\n",
      "[CV] max_features=0.7, min_samples_split=4, n_estimators=250 .........\n",
      "[CV]  max_features=0.7, min_samples_split=4, n_estimators=250, score=0.962, total= 8.9min\n",
      "[CV] max_features=0.7, min_samples_split=4, n_estimators=350 .........\n",
      "[CV]  max_features=0.7, min_samples_split=4, n_estimators=350, score=0.963, total=12.5min\n",
      "[CV] max_features=0.7, min_samples_split=6, n_estimators=150 .........\n",
      "[CV]  max_features=0.7, min_samples_split=6, n_estimators=150, score=0.961, total= 5.3min\n",
      "[CV] max_features=0.7, min_samples_split=6, n_estimators=250 .........\n",
      "[CV]  max_features=0.7, min_samples_split=6, n_estimators=250, score=0.961, total= 9.1min\n",
      "[CV] max_features=0.7, min_samples_split=6, n_estimators=350 .........\n",
      "[CV]  max_features=0.7, min_samples_split=6, n_estimators=350, score=0.961, total=12.2min\n",
      "[CV] max_features=0.7, min_samples_split=8, n_estimators=150 .........\n",
      "[CV]  max_features=0.7, min_samples_split=8, n_estimators=150, score=0.959, total= 5.0min\n",
      "[CV] max_features=0.7, min_samples_split=8, n_estimators=250 .........\n",
      "[CV]  max_features=0.7, min_samples_split=8, n_estimators=250, score=0.960, total= 8.4min\n",
      "[CV] max_features=0.7, min_samples_split=8, n_estimators=350 .........\n",
      "[CV]  max_features=0.7, min_samples_split=8, n_estimators=350, score=0.960, total=11.7min\n"
     ]
    },
    {
     "name": "stderr",
     "output_type": "stream",
     "text": [
      "[Parallel(n_jobs=1)]: Done  27 out of  27 | elapsed: 194.4min finished\n"
     ]
    },
    {
     "data": {
      "text/plain": [
       "GridSearchCV(cv=PredefinedSplit(test_fold=array([-1, -1, ..., -1,  0])),\n",
       "             error_score='raise-deprecating',\n",
       "             estimator=RandomForestClassifier(bootstrap=True, class_weight=None,\n",
       "                                              criterion='gini', max_depth=None,\n",
       "                                              max_features='auto',\n",
       "                                              max_leaf_nodes=None,\n",
       "                                              min_impurity_decrease=0.0,\n",
       "                                              min_impurity_split=None,\n",
       "                                              min_samples_leaf=1,\n",
       "                                              min_samples_split=2,\n",
       "                                              min_weight_fraction_leaf=0.0,\n",
       "                                              n_estimators='warn', n_jobs=None,\n",
       "                                              oob_score=True, random_state=None,\n",
       "                                              verbose=0, warm_start=False),\n",
       "             iid='warn', n_jobs=1,\n",
       "             param_grid={'max_features': [0.3, 0.5, 0.7],\n",
       "                         'min_samples_split': [4, 6, 8],\n",
       "                         'n_estimators': [150, 250, 350]},\n",
       "             pre_dispatch='2*n_jobs', refit=True, return_train_score=False,\n",
       "             scoring=<function oob_scorer at 0x7f170a80a170>, verbose=10)"
      ]
     },
     "execution_count": 10,
     "metadata": {},
     "output_type": "execute_result"
    }
   ],
   "source": [
    "rfc = RandomForestClassifier(oob_score = True, criterion = 'entropy')\n",
    "from sklearn.externals.joblib import parallel_backend\n",
    "\n",
    "gs = GridSearchCV(estimator=rfc,param_grid=param_grid,scoring=oob_scorer,cv = PredefinedSplit([-1]*(Xtrain.shape[0]-1) + [0]),n_jobs=1, verbose = 10)\n",
    "with parallel_backend('threading'):\n",
    "    gs.fit(Xtrain, ytrain)\n",
    "#best_score = 0\n",
    "#best_grid = None\n",
    "#start = time.time()\n",
    "#for g in pg:\n",
    "#    print(g)\n",
    "#    rfc.set_params(**g)\n",
    "#    rfc.fit(Xtrain,ytrain)\n",
    "#    end = time.time()\n",
    "#    if rfc.oob_score_ > best_score:\n",
    "#        best_score = rfc.oob_score_\n",
    "#        best_grid = g\n",
    "#    print(rfc.oob_score)\n",
    "#    print(\"Time:\",end-start)\n",
    "# gs.fit(Xtrain,ytrain)"
   ]
  },
  {
   "cell_type": "code",
   "execution_count": 11,
   "metadata": {},
   "outputs": [
    {
     "data": {
      "text/plain": [
       "{'max_features': 0.7, 'min_samples_split': 4, 'n_estimators': 350}"
      ]
     },
     "execution_count": 11,
     "metadata": {},
     "output_type": "execute_result"
    }
   ],
   "source": [
    "gs.best_params_"
   ]
  },
  {
   "cell_type": "code",
   "execution_count": 15,
   "metadata": {},
   "outputs": [
    {
     "data": {
      "text/plain": [
       "{'n_estimators': [50, 150, 250, 350, 450],\n",
       " 'max_features': [0.1,\n",
       "  0.30000000000000004,\n",
       "  0.5000000000000001,\n",
       "  0.7000000000000001,\n",
       "  0.9000000000000001],\n",
       " 'min_samples_split': [2, 4, 6, 8, 10]}"
      ]
     },
     "execution_count": 15,
     "metadata": {},
     "output_type": "execute_result"
    }
   ],
   "source": [
    "param_grid"
   ]
  },
  {
   "cell_type": "code",
   "execution_count": 7,
   "metadata": {},
   "outputs": [
    {
     "name": "stderr",
     "output_type": "stream",
     "text": [
      "/home/parm_khakhar/anaconda3/lib/python3.7/site-packages/sklearn/externals/joblib/__init__.py:15: DeprecationWarning: sklearn.externals.joblib is deprecated in 0.21 and will be removed in 0.23. Please import this functionality directly from joblib, which can be installed with: pip install joblib. If this warning is raised when loading pickled models, you may need to re-serialize those models with scikit-learn 0.21+.\n",
      "  warnings.warn(msg, category=DeprecationWarning)\n",
      "[Parallel(n_jobs=1)]: Using backend SequentialBackend with 1 concurrent workers.\n"
     ]
    },
    {
     "name": "stdout",
     "output_type": "stream",
     "text": [
      "Fitting 1 folds for each of 125 candidates, totalling 125 fits\n",
      "[CV] max_features=0.1, min_samples_split=2, n_estimators=50 ..........\n",
      "[CV]  max_features=0.1, min_samples_split=2, n_estimators=50, score=0.936, total=  32.6s\n",
      "[CV] max_features=0.1, min_samples_split=2, n_estimators=150 .........\n"
     ]
    },
    {
     "name": "stderr",
     "output_type": "stream",
     "text": [
      "[Parallel(n_jobs=1)]: Done   1 out of   1 | elapsed:   32.6s remaining:    0.0s\n"
     ]
    },
    {
     "name": "stdout",
     "output_type": "stream",
     "text": [
      "[CV]  max_features=0.1, min_samples_split=2, n_estimators=150, score=0.943, total= 1.7min\n",
      "[CV] max_features=0.1, min_samples_split=2, n_estimators=250 .........\n"
     ]
    },
    {
     "name": "stderr",
     "output_type": "stream",
     "text": [
      "[Parallel(n_jobs=1)]: Done   2 out of   2 | elapsed:  2.3min remaining:    0.0s\n"
     ]
    },
    {
     "name": "stdout",
     "output_type": "stream",
     "text": [
      "[CV]  max_features=0.1, min_samples_split=2, n_estimators=250, score=0.944, total= 2.7min\n",
      "[CV] max_features=0.1, min_samples_split=2, n_estimators=350 .........\n"
     ]
    },
    {
     "name": "stderr",
     "output_type": "stream",
     "text": [
      "[Parallel(n_jobs=1)]: Done   3 out of   3 | elapsed:  5.0min remaining:    0.0s\n"
     ]
    },
    {
     "name": "stdout",
     "output_type": "stream",
     "text": [
      "[CV]  max_features=0.1, min_samples_split=2, n_estimators=350, score=0.944, total= 3.9min\n",
      "[CV] max_features=0.1, min_samples_split=2, n_estimators=450 .........\n"
     ]
    },
    {
     "name": "stderr",
     "output_type": "stream",
     "text": [
      "[Parallel(n_jobs=1)]: Done   4 out of   4 | elapsed:  8.8min remaining:    0.0s\n"
     ]
    },
    {
     "name": "stdout",
     "output_type": "stream",
     "text": [
      "[CV]  max_features=0.1, min_samples_split=2, n_estimators=450, score=0.944, total= 5.2min\n"
     ]
    },
    {
     "name": "stderr",
     "output_type": "stream",
     "text": [
      "[Parallel(n_jobs=1)]: Done   5 out of   5 | elapsed: 14.0min remaining:    0.0s\n"
     ]
    },
    {
     "name": "stdout",
     "output_type": "stream",
     "text": [
      "[CV] max_features=0.1, min_samples_split=4, n_estimators=50 ..........\n",
      "[CV]  max_features=0.1, min_samples_split=4, n_estimators=50, score=0.934, total=  35.7s\n",
      "[CV] max_features=0.1, min_samples_split=4, n_estimators=150 .........\n"
     ]
    },
    {
     "name": "stderr",
     "output_type": "stream",
     "text": [
      "[Parallel(n_jobs=1)]: Done   6 out of   6 | elapsed: 14.7min remaining:    0.0s\n"
     ]
    },
    {
     "name": "stdout",
     "output_type": "stream",
     "text": [
      "[CV]  max_features=0.1, min_samples_split=4, n_estimators=150, score=0.940, total= 1.8min\n",
      "[CV] max_features=0.1, min_samples_split=4, n_estimators=250 .........\n"
     ]
    },
    {
     "name": "stderr",
     "output_type": "stream",
     "text": [
      "[Parallel(n_jobs=1)]: Done   7 out of   7 | elapsed: 16.4min remaining:    0.0s\n"
     ]
    },
    {
     "name": "stdout",
     "output_type": "stream",
     "text": [
      "[CV]  max_features=0.1, min_samples_split=4, n_estimators=250, score=0.943, total= 2.8min\n",
      "[CV] max_features=0.1, min_samples_split=4, n_estimators=350 .........\n"
     ]
    },
    {
     "name": "stderr",
     "output_type": "stream",
     "text": [
      "[Parallel(n_jobs=1)]: Done   8 out of   8 | elapsed: 19.2min remaining:    0.0s\n"
     ]
    },
    {
     "name": "stdout",
     "output_type": "stream",
     "text": [
      "[CV]  max_features=0.1, min_samples_split=4, n_estimators=350, score=0.942, total= 4.0min\n",
      "[CV] max_features=0.1, min_samples_split=4, n_estimators=450 .........\n"
     ]
    },
    {
     "name": "stderr",
     "output_type": "stream",
     "text": [
      "[Parallel(n_jobs=1)]: Done   9 out of   9 | elapsed: 23.2min remaining:    0.0s\n"
     ]
    },
    {
     "name": "stdout",
     "output_type": "stream",
     "text": [
      "[CV]  max_features=0.1, min_samples_split=4, n_estimators=450, score=0.942, total= 4.9min\n",
      "[CV] max_features=0.1, min_samples_split=6, n_estimators=50 ..........\n",
      "[CV]  max_features=0.1, min_samples_split=6, n_estimators=50, score=0.933, total=  31.8s\n",
      "[CV] max_features=0.1, min_samples_split=6, n_estimators=150 .........\n",
      "[CV]  max_features=0.1, min_samples_split=6, n_estimators=150, score=0.938, total= 1.6min\n",
      "[CV] max_features=0.1, min_samples_split=6, n_estimators=250 .........\n",
      "[CV]  max_features=0.1, min_samples_split=6, n_estimators=250, score=0.939, total= 2.9min\n",
      "[CV] max_features=0.1, min_samples_split=6, n_estimators=350 .........\n",
      "[CV]  max_features=0.1, min_samples_split=6, n_estimators=350, score=0.940, total= 4.1min\n",
      "[CV] max_features=0.1, min_samples_split=6, n_estimators=450 .........\n",
      "[CV]  max_features=0.1, min_samples_split=6, n_estimators=450, score=0.940, total= 4.6min\n",
      "[CV] max_features=0.1, min_samples_split=8, n_estimators=50 ..........\n",
      "[CV]  max_features=0.1, min_samples_split=8, n_estimators=50, score=0.931, total=  29.9s\n",
      "[CV] max_features=0.1, min_samples_split=8, n_estimators=150 .........\n",
      "[CV]  max_features=0.1, min_samples_split=8, n_estimators=150, score=0.935, total= 1.5min\n",
      "[CV] max_features=0.1, min_samples_split=8, n_estimators=250 .........\n",
      "[CV]  max_features=0.1, min_samples_split=8, n_estimators=250, score=0.938, total= 2.5min\n",
      "[CV] max_features=0.1, min_samples_split=8, n_estimators=350 .........\n",
      "[CV]  max_features=0.1, min_samples_split=8, n_estimators=350, score=0.938, total= 3.5min\n",
      "[CV] max_features=0.1, min_samples_split=8, n_estimators=450 .........\n",
      "[CV]  max_features=0.1, min_samples_split=8, n_estimators=450, score=0.938, total= 4.5min\n",
      "[CV] max_features=0.1, min_samples_split=10, n_estimators=50 .........\n",
      "[CV]  max_features=0.1, min_samples_split=10, n_estimators=50, score=0.927, total=  29.9s\n",
      "[CV] max_features=0.1, min_samples_split=10, n_estimators=150 ........\n",
      "[CV]  max_features=0.1, min_samples_split=10, n_estimators=150, score=0.933, total= 1.5min\n",
      "[CV] max_features=0.1, min_samples_split=10, n_estimators=250 ........\n",
      "[CV]  max_features=0.1, min_samples_split=10, n_estimators=250, score=0.935, total= 2.5min\n",
      "[CV] max_features=0.1, min_samples_split=10, n_estimators=350 ........\n",
      "[CV]  max_features=0.1, min_samples_split=10, n_estimators=350, score=0.935, total= 3.5min\n",
      "[CV] max_features=0.1, min_samples_split=10, n_estimators=450 ........\n",
      "[CV]  max_features=0.1, min_samples_split=10, n_estimators=450, score=0.935, total= 4.8min\n",
      "[CV] max_features=0.30000000000000004, min_samples_split=2, n_estimators=50 \n",
      "[CV]  max_features=0.30000000000000004, min_samples_split=2, n_estimators=50, score=0.958, total= 1.0min\n",
      "[CV] max_features=0.30000000000000004, min_samples_split=2, n_estimators=150 \n",
      "[CV]  max_features=0.30000000000000004, min_samples_split=2, n_estimators=150, score=0.961, total= 2.9min\n",
      "[CV] max_features=0.30000000000000004, min_samples_split=2, n_estimators=250 \n",
      "[CV]  max_features=0.30000000000000004, min_samples_split=2, n_estimators=250, score=0.962, total= 4.9min\n",
      "[CV] max_features=0.30000000000000004, min_samples_split=2, n_estimators=350 \n",
      "[CV]  max_features=0.30000000000000004, min_samples_split=2, n_estimators=350, score=0.962, total= 6.3min\n",
      "[CV] max_features=0.30000000000000004, min_samples_split=2, n_estimators=450 \n",
      "[CV]  max_features=0.30000000000000004, min_samples_split=2, n_estimators=450, score=0.962, total= 8.4min\n",
      "[CV] max_features=0.30000000000000004, min_samples_split=4, n_estimators=50 \n",
      "[CV]  max_features=0.30000000000000004, min_samples_split=4, n_estimators=50, score=0.956, total=  54.9s\n",
      "[CV] max_features=0.30000000000000004, min_samples_split=4, n_estimators=150 \n",
      "[CV]  max_features=0.30000000000000004, min_samples_split=4, n_estimators=150, score=0.960, total= 2.8min\n",
      "[CV] max_features=0.30000000000000004, min_samples_split=4, n_estimators=250 \n",
      "[CV]  max_features=0.30000000000000004, min_samples_split=4, n_estimators=250, score=0.961, total= 5.3min\n",
      "[CV] max_features=0.30000000000000004, min_samples_split=4, n_estimators=350 \n",
      "[CV]  max_features=0.30000000000000004, min_samples_split=4, n_estimators=350, score=0.961, total= 7.5min\n",
      "[CV] max_features=0.30000000000000004, min_samples_split=4, n_estimators=450 \n",
      "[CV]  max_features=0.30000000000000004, min_samples_split=4, n_estimators=450, score=0.961, total=10.3min\n",
      "[CV] max_features=0.30000000000000004, min_samples_split=6, n_estimators=50 \n",
      "[CV]  max_features=0.30000000000000004, min_samples_split=6, n_estimators=50, score=0.955, total= 1.3min\n",
      "[CV] max_features=0.30000000000000004, min_samples_split=6, n_estimators=150 \n",
      "[CV]  max_features=0.30000000000000004, min_samples_split=6, n_estimators=150, score=0.959, total= 3.3min\n",
      "[CV] max_features=0.30000000000000004, min_samples_split=6, n_estimators=250 \n",
      "[CV]  max_features=0.30000000000000004, min_samples_split=6, n_estimators=250, score=0.960, total= 5.9min\n",
      "[CV] max_features=0.30000000000000004, min_samples_split=6, n_estimators=350 \n",
      "[CV]  max_features=0.30000000000000004, min_samples_split=6, n_estimators=350, score=0.960, total= 8.7min\n",
      "[CV] max_features=0.30000000000000004, min_samples_split=6, n_estimators=450 \n",
      "[CV]  max_features=0.30000000000000004, min_samples_split=6, n_estimators=450, score=0.960, total= 8.2min\n",
      "[CV] max_features=0.30000000000000004, min_samples_split=8, n_estimators=50 \n",
      "[CV]  max_features=0.30000000000000004, min_samples_split=8, n_estimators=50, score=0.954, total=  53.4s\n",
      "[CV] max_features=0.30000000000000004, min_samples_split=8, n_estimators=150 \n",
      "[CV]  max_features=0.30000000000000004, min_samples_split=8, n_estimators=150, score=0.958, total= 2.7min\n",
      "[CV] max_features=0.30000000000000004, min_samples_split=8, n_estimators=250 \n",
      "[CV]  max_features=0.30000000000000004, min_samples_split=8, n_estimators=250, score=0.958, total= 4.7min\n",
      "[CV] max_features=0.30000000000000004, min_samples_split=8, n_estimators=350 \n",
      "[CV]  max_features=0.30000000000000004, min_samples_split=8, n_estimators=350, score=0.958, total= 6.2min\n",
      "[CV] max_features=0.30000000000000004, min_samples_split=8, n_estimators=450 \n",
      "[CV]  max_features=0.30000000000000004, min_samples_split=8, n_estimators=450, score=0.958, total= 8.1min\n",
      "[CV] max_features=0.30000000000000004, min_samples_split=10, n_estimators=50 \n",
      "[CV]  max_features=0.30000000000000004, min_samples_split=10, n_estimators=50, score=0.952, total=  53.5s\n",
      "[CV] max_features=0.30000000000000004, min_samples_split=10, n_estimators=150 \n",
      "[CV]  max_features=0.30000000000000004, min_samples_split=10, n_estimators=150, score=0.956, total= 2.7min\n",
      "[CV] max_features=0.30000000000000004, min_samples_split=10, n_estimators=250 \n",
      "[CV]  max_features=0.30000000000000004, min_samples_split=10, n_estimators=250, score=0.957, total= 4.4min\n",
      "[CV] max_features=0.30000000000000004, min_samples_split=10, n_estimators=350 \n",
      "[CV]  max_features=0.30000000000000004, min_samples_split=10, n_estimators=350, score=0.957, total= 6.3min\n",
      "[CV] max_features=0.30000000000000004, min_samples_split=10, n_estimators=450 \n",
      "[CV]  max_features=0.30000000000000004, min_samples_split=10, n_estimators=450, score=0.957, total= 8.5min\n",
      "[CV] max_features=0.5000000000000001, min_samples_split=2, n_estimators=50 \n",
      "[CV]  max_features=0.5000000000000001, min_samples_split=2, n_estimators=50, score=0.961, total= 1.4min\n",
      "[CV] max_features=0.5000000000000001, min_samples_split=2, n_estimators=150 \n",
      "[CV]  max_features=0.5000000000000001, min_samples_split=2, n_estimators=150, score=0.965, total= 4.1min\n",
      "[CV] max_features=0.5000000000000001, min_samples_split=2, n_estimators=250 \n",
      "[CV]  max_features=0.5000000000000001, min_samples_split=2, n_estimators=250, score=0.965, total= 7.3min\n",
      "[CV] max_features=0.5000000000000001, min_samples_split=2, n_estimators=350 \n",
      "[CV]  max_features=0.5000000000000001, min_samples_split=2, n_estimators=350, score=0.966, total=10.5min\n",
      "[CV] max_features=0.5000000000000001, min_samples_split=2, n_estimators=450 \n",
      "[CV]  max_features=0.5000000000000001, min_samples_split=2, n_estimators=450, score=0.966, total=14.0min\n",
      "[CV] max_features=0.5000000000000001, min_samples_split=4, n_estimators=50 \n",
      "[CV]  max_features=0.5000000000000001, min_samples_split=4, n_estimators=50, score=0.961, total= 1.3min\n",
      "[CV] max_features=0.5000000000000001, min_samples_split=4, n_estimators=150 \n"
     ]
    },
    {
     "name": "stdout",
     "output_type": "stream",
     "text": [
      "[CV]  max_features=0.5000000000000001, min_samples_split=4, n_estimators=150, score=0.964, total= 4.1min\n",
      "[CV] max_features=0.5000000000000001, min_samples_split=4, n_estimators=250 \n",
      "[CV]  max_features=0.5000000000000001, min_samples_split=4, n_estimators=250, score=0.965, total= 6.8min\n",
      "[CV] max_features=0.5000000000000001, min_samples_split=4, n_estimators=350 \n",
      "[CV]  max_features=0.5000000000000001, min_samples_split=4, n_estimators=350, score=0.965, total= 9.4min\n",
      "[CV] max_features=0.5000000000000001, min_samples_split=4, n_estimators=450 \n",
      "[CV]  max_features=0.5000000000000001, min_samples_split=4, n_estimators=450, score=0.965, total=12.1min\n",
      "[CV] max_features=0.5000000000000001, min_samples_split=6, n_estimators=50 \n",
      "[CV]  max_features=0.5000000000000001, min_samples_split=6, n_estimators=50, score=0.960, total= 1.3min\n",
      "[CV] max_features=0.5000000000000001, min_samples_split=6, n_estimators=150 \n",
      "[CV]  max_features=0.5000000000000001, min_samples_split=6, n_estimators=150, score=0.963, total= 4.0min\n",
      "[CV] max_features=0.5000000000000001, min_samples_split=6, n_estimators=250 \n",
      "[CV]  max_features=0.5000000000000001, min_samples_split=6, n_estimators=250, score=0.964, total= 6.7min\n",
      "[CV] max_features=0.5000000000000001, min_samples_split=6, n_estimators=350 \n",
      "[CV]  max_features=0.5000000000000001, min_samples_split=6, n_estimators=350, score=0.964, total= 9.4min\n",
      "[CV] max_features=0.5000000000000001, min_samples_split=6, n_estimators=450 \n",
      "[CV]  max_features=0.5000000000000001, min_samples_split=6, n_estimators=450, score=0.964, total=12.1min\n",
      "[CV] max_features=0.5000000000000001, min_samples_split=8, n_estimators=50 \n",
      "[CV]  max_features=0.5000000000000001, min_samples_split=8, n_estimators=50, score=0.959, total= 1.3min\n",
      "[CV] max_features=0.5000000000000001, min_samples_split=8, n_estimators=150 \n",
      "[CV]  max_features=0.5000000000000001, min_samples_split=8, n_estimators=150, score=0.962, total= 4.0min\n",
      "[CV] max_features=0.5000000000000001, min_samples_split=8, n_estimators=250 \n",
      "[CV]  max_features=0.5000000000000001, min_samples_split=8, n_estimators=250, score=0.963, total= 6.7min\n",
      "[CV] max_features=0.5000000000000001, min_samples_split=8, n_estimators=350 \n",
      "[CV]  max_features=0.5000000000000001, min_samples_split=8, n_estimators=350, score=0.963, total= 9.4min\n",
      "[CV] max_features=0.5000000000000001, min_samples_split=8, n_estimators=450 \n",
      "[CV]  max_features=0.5000000000000001, min_samples_split=8, n_estimators=450, score=0.963, total=12.1min\n",
      "[CV] max_features=0.5000000000000001, min_samples_split=10, n_estimators=50 \n",
      "[CV]  max_features=0.5000000000000001, min_samples_split=10, n_estimators=50, score=0.957, total= 1.3min\n",
      "[CV] max_features=0.5000000000000001, min_samples_split=10, n_estimators=150 \n",
      "[CV]  max_features=0.5000000000000001, min_samples_split=10, n_estimators=150, score=0.961, total= 4.0min\n",
      "[CV] max_features=0.5000000000000001, min_samples_split=10, n_estimators=250 \n",
      "[CV]  max_features=0.5000000000000001, min_samples_split=10, n_estimators=250, score=0.961, total= 6.7min\n",
      "[CV] max_features=0.5000000000000001, min_samples_split=10, n_estimators=350 \n",
      "[CV]  max_features=0.5000000000000001, min_samples_split=10, n_estimators=350, score=0.962, total= 9.4min\n",
      "[CV] max_features=0.5000000000000001, min_samples_split=10, n_estimators=450 \n",
      "[CV]  max_features=0.5000000000000001, min_samples_split=10, n_estimators=450, score=0.962, total=12.0min\n",
      "[CV] max_features=0.7000000000000001, min_samples_split=2, n_estimators=50 \n",
      "[CV]  max_features=0.7000000000000001, min_samples_split=2, n_estimators=50, score=0.962, total= 1.8min\n",
      "[CV] max_features=0.7000000000000001, min_samples_split=2, n_estimators=150 \n",
      "[CV]  max_features=0.7000000000000001, min_samples_split=2, n_estimators=150, score=0.965, total= 5.3min\n",
      "[CV] max_features=0.7000000000000001, min_samples_split=2, n_estimators=250 \n",
      "[CV]  max_features=0.7000000000000001, min_samples_split=2, n_estimators=250, score=0.966, total= 8.8min\n",
      "[CV] max_features=0.7000000000000001, min_samples_split=2, n_estimators=350 \n",
      "[CV]  max_features=0.7000000000000001, min_samples_split=2, n_estimators=350, score=0.966, total=12.3min\n",
      "[CV] max_features=0.7000000000000001, min_samples_split=2, n_estimators=450 \n",
      "[CV]  max_features=0.7000000000000001, min_samples_split=2, n_estimators=450, score=0.966, total=15.8min\n",
      "[CV] max_features=0.7000000000000001, min_samples_split=4, n_estimators=50 \n",
      "[CV]  max_features=0.7000000000000001, min_samples_split=4, n_estimators=50, score=0.962, total= 1.8min\n",
      "[CV] max_features=0.7000000000000001, min_samples_split=4, n_estimators=150 \n",
      "[CV]  max_features=0.7000000000000001, min_samples_split=4, n_estimators=150, score=0.965, total= 5.2min\n",
      "[CV] max_features=0.7000000000000001, min_samples_split=4, n_estimators=250 \n",
      "[CV]  max_features=0.7000000000000001, min_samples_split=4, n_estimators=250, score=0.965, total= 8.8min\n",
      "[CV] max_features=0.7000000000000001, min_samples_split=4, n_estimators=350 \n",
      "[CV]  max_features=0.7000000000000001, min_samples_split=4, n_estimators=350, score=0.965, total=12.3min\n",
      "[CV] max_features=0.7000000000000001, min_samples_split=4, n_estimators=450 \n",
      "[CV]  max_features=0.7000000000000001, min_samples_split=4, n_estimators=450, score=0.966, total=15.8min\n",
      "[CV] max_features=0.7000000000000001, min_samples_split=6, n_estimators=50 \n",
      "[CV]  max_features=0.7000000000000001, min_samples_split=6, n_estimators=50, score=0.961, total= 1.8min\n",
      "[CV] max_features=0.7000000000000001, min_samples_split=6, n_estimators=150 \n",
      "[CV]  max_features=0.7000000000000001, min_samples_split=6, n_estimators=150, score=0.964, total= 5.2min\n",
      "[CV] max_features=0.7000000000000001, min_samples_split=6, n_estimators=250 \n",
      "[CV]  max_features=0.7000000000000001, min_samples_split=6, n_estimators=250, score=0.965, total= 8.8min\n",
      "[CV] max_features=0.7000000000000001, min_samples_split=6, n_estimators=350 \n",
      "[CV]  max_features=0.7000000000000001, min_samples_split=6, n_estimators=350, score=0.965, total=12.3min\n",
      "[CV] max_features=0.7000000000000001, min_samples_split=6, n_estimators=450 \n",
      "[CV]  max_features=0.7000000000000001, min_samples_split=6, n_estimators=450, score=0.965, total=15.8min\n",
      "[CV] max_features=0.7000000000000001, min_samples_split=8, n_estimators=50 \n",
      "[CV]  max_features=0.7000000000000001, min_samples_split=8, n_estimators=50, score=0.960, total= 1.7min\n",
      "[CV] max_features=0.7000000000000001, min_samples_split=8, n_estimators=150 \n",
      "[CV]  max_features=0.7000000000000001, min_samples_split=8, n_estimators=150, score=0.963, total= 5.2min\n",
      "[CV] max_features=0.7000000000000001, min_samples_split=8, n_estimators=250 \n",
      "[CV]  max_features=0.7000000000000001, min_samples_split=8, n_estimators=250, score=0.963, total= 8.8min\n",
      "[CV] max_features=0.7000000000000001, min_samples_split=8, n_estimators=350 \n",
      "[CV]  max_features=0.7000000000000001, min_samples_split=8, n_estimators=350, score=0.964, total=12.2min\n",
      "[CV] max_features=0.7000000000000001, min_samples_split=8, n_estimators=450 \n",
      "[CV]  max_features=0.7000000000000001, min_samples_split=8, n_estimators=450, score=0.964, total=15.7min\n",
      "[CV] max_features=0.7000000000000001, min_samples_split=10, n_estimators=50 \n",
      "[CV]  max_features=0.7000000000000001, min_samples_split=10, n_estimators=50, score=0.959, total= 1.8min\n",
      "[CV] max_features=0.7000000000000001, min_samples_split=10, n_estimators=150 \n",
      "[CV]  max_features=0.7000000000000001, min_samples_split=10, n_estimators=150, score=0.962, total= 5.2min\n",
      "[CV] max_features=0.7000000000000001, min_samples_split=10, n_estimators=250 \n",
      "[CV]  max_features=0.7000000000000001, min_samples_split=10, n_estimators=250, score=0.962, total= 8.9min\n",
      "[CV] max_features=0.7000000000000001, min_samples_split=10, n_estimators=350 \n",
      "[CV]  max_features=0.7000000000000001, min_samples_split=10, n_estimators=350, score=0.963, total=12.2min\n",
      "[CV] max_features=0.7000000000000001, min_samples_split=10, n_estimators=450 \n",
      "[CV]  max_features=0.7000000000000001, min_samples_split=10, n_estimators=450, score=0.963, total=15.6min\n",
      "[CV] max_features=0.9000000000000001, min_samples_split=2, n_estimators=50 \n",
      "[CV]  max_features=0.9000000000000001, min_samples_split=2, n_estimators=50, score=0.962, total= 2.2min\n",
      "[CV] max_features=0.9000000000000001, min_samples_split=2, n_estimators=150 \n",
      "[CV]  max_features=0.9000000000000001, min_samples_split=2, n_estimators=150, score=0.965, total= 6.6min\n",
      "[CV] max_features=0.9000000000000001, min_samples_split=2, n_estimators=250 \n"
     ]
    },
    {
     "name": "stdout",
     "output_type": "stream",
     "text": [
      "[CV]  max_features=0.9000000000000001, min_samples_split=2, n_estimators=250, score=0.965, total=11.0min\n",
      "[CV] max_features=0.9000000000000001, min_samples_split=2, n_estimators=350 \n",
      "[CV]  max_features=0.9000000000000001, min_samples_split=2, n_estimators=350, score=0.966, total=15.3min\n",
      "[CV] max_features=0.9000000000000001, min_samples_split=2, n_estimators=450 \n",
      "[CV]  max_features=0.9000000000000001, min_samples_split=2, n_estimators=450, score=0.966, total=19.8min\n",
      "[CV] max_features=0.9000000000000001, min_samples_split=4, n_estimators=50 \n",
      "[CV]  max_features=0.9000000000000001, min_samples_split=4, n_estimators=50, score=0.962, total= 2.2min\n",
      "[CV] max_features=0.9000000000000001, min_samples_split=4, n_estimators=150 \n",
      "[CV]  max_features=0.9000000000000001, min_samples_split=4, n_estimators=150, score=0.965, total= 6.6min\n",
      "[CV] max_features=0.9000000000000001, min_samples_split=4, n_estimators=250 \n",
      "[CV]  max_features=0.9000000000000001, min_samples_split=4, n_estimators=250, score=0.965, total=12.6min\n",
      "[CV] max_features=0.9000000000000001, min_samples_split=4, n_estimators=350 \n",
      "[CV]  max_features=0.9000000000000001, min_samples_split=4, n_estimators=350, score=0.965, total=15.4min\n",
      "[CV] max_features=0.9000000000000001, min_samples_split=4, n_estimators=450 \n",
      "[CV]  max_features=0.9000000000000001, min_samples_split=4, n_estimators=450, score=0.965, total=20.0min\n",
      "[CV] max_features=0.9000000000000001, min_samples_split=6, n_estimators=50 \n",
      "[CV]  max_features=0.9000000000000001, min_samples_split=6, n_estimators=50, score=0.961, total= 2.2min\n",
      "[CV] max_features=0.9000000000000001, min_samples_split=6, n_estimators=150 \n",
      "[CV]  max_features=0.9000000000000001, min_samples_split=6, n_estimators=150, score=0.963, total= 6.6min\n",
      "[CV] max_features=0.9000000000000001, min_samples_split=6, n_estimators=250 \n",
      "[CV]  max_features=0.9000000000000001, min_samples_split=6, n_estimators=250, score=0.964, total=11.0min\n",
      "[CV] max_features=0.9000000000000001, min_samples_split=6, n_estimators=350 \n",
      "[CV]  max_features=0.9000000000000001, min_samples_split=6, n_estimators=350, score=0.964, total=15.4min\n",
      "[CV] max_features=0.9000000000000001, min_samples_split=6, n_estimators=450 \n",
      "[CV]  max_features=0.9000000000000001, min_samples_split=6, n_estimators=450, score=0.965, total=19.8min\n",
      "[CV] max_features=0.9000000000000001, min_samples_split=8, n_estimators=50 \n",
      "[CV]  max_features=0.9000000000000001, min_samples_split=8, n_estimators=50, score=0.960, total= 2.2min\n",
      "[CV] max_features=0.9000000000000001, min_samples_split=8, n_estimators=150 \n",
      "[CV]  max_features=0.9000000000000001, min_samples_split=8, n_estimators=150, score=0.963, total= 6.6min\n",
      "[CV] max_features=0.9000000000000001, min_samples_split=8, n_estimators=250 \n",
      "[CV]  max_features=0.9000000000000001, min_samples_split=8, n_estimators=250, score=0.963, total=11.0min\n",
      "[CV] max_features=0.9000000000000001, min_samples_split=8, n_estimators=350 \n",
      "[CV]  max_features=0.9000000000000001, min_samples_split=8, n_estimators=350, score=0.964, total=15.3min\n",
      "[CV] max_features=0.9000000000000001, min_samples_split=8, n_estimators=450 \n",
      "[CV]  max_features=0.9000000000000001, min_samples_split=8, n_estimators=450, score=0.963, total=19.8min\n",
      "[CV] max_features=0.9000000000000001, min_samples_split=10, n_estimators=50 \n",
      "[CV]  max_features=0.9000000000000001, min_samples_split=10, n_estimators=50, score=0.958, total= 2.2min\n",
      "[CV] max_features=0.9000000000000001, min_samples_split=10, n_estimators=150 \n",
      "[CV]  max_features=0.9000000000000001, min_samples_split=10, n_estimators=150, score=0.961, total= 6.7min\n",
      "[CV] max_features=0.9000000000000001, min_samples_split=10, n_estimators=250 \n",
      "[CV]  max_features=0.9000000000000001, min_samples_split=10, n_estimators=250, score=0.962, total=11.0min\n",
      "[CV] max_features=0.9000000000000001, min_samples_split=10, n_estimators=350 \n",
      "[CV]  max_features=0.9000000000000001, min_samples_split=10, n_estimators=350, score=0.962, total=15.5min\n",
      "[CV] max_features=0.9000000000000001, min_samples_split=10, n_estimators=450 \n",
      "[CV]  max_features=0.9000000000000001, min_samples_split=10, n_estimators=450, score=0.962, total=20.0min\n"
     ]
    },
    {
     "name": "stderr",
     "output_type": "stream",
     "text": [
      "[Parallel(n_jobs=1)]: Done 125 out of 125 | elapsed: 858.0min finished\n"
     ]
    },
    {
     "data": {
      "text/plain": [
       "GridSearchCV(cv=PredefinedSplit(test_fold=array([-1, -1, ..., -1,  0])),\n",
       "             error_score='raise-deprecating',\n",
       "             estimator=RandomForestClassifier(bootstrap=True, class_weight=None,\n",
       "                                              criterion='entropy',\n",
       "                                              max_depth=None,\n",
       "                                              max_features='auto',\n",
       "                                              max_leaf_nodes=None,\n",
       "                                              min_impurity_decrease=0.0,\n",
       "                                              min_impurity_split=None,\n",
       "                                              min_samples_leaf=1,\n",
       "                                              min_samples_split=2,\n",
       "                                              min_weight_fraction_l...\n",
       "                                              oob_score=True, random_state=None,\n",
       "                                              verbose=0, warm_start=False),\n",
       "             iid='warn', n_jobs=1,\n",
       "             param_grid={'max_features': [0.1, 0.30000000000000004,\n",
       "                                          0.5000000000000001,\n",
       "                                          0.7000000000000001,\n",
       "                                          0.9000000000000001],\n",
       "                         'min_samples_split': [2, 4, 6, 8, 10],\n",
       "                         'n_estimators': [50, 150, 250, 350, 450]},\n",
       "             pre_dispatch='2*n_jobs', refit=True, return_train_score=False,\n",
       "             scoring=<function oob_scorer at 0x7fb26d7e0950>, verbose=10)"
      ]
     },
     "execution_count": 7,
     "metadata": {},
     "output_type": "execute_result"
    }
   ],
   "source": [
    "rfc = RandomForestClassifier(oob_score = True, criterion = 'entropy')\n",
    "from sklearn.externals.joblib import parallel_backend\n",
    "\n",
    "gs1 = GridSearchCV(estimator=rfc,param_grid=param_grid,scoring=oob_scorer,cv = PredefinedSplit([-1]*(Xtrain.shape[0]-1) + [0]),n_jobs=1, verbose = 10)\n",
    "gs1.fit(Xtrain, ytrain)\n",
    "#best_score = 0"
   ]
  },
  {
   "cell_type": "code",
   "execution_count": 8,
   "metadata": {},
   "outputs": [
    {
     "data": {
      "text/plain": [
       "{'max_features': 0.7000000000000001,\n",
       " 'min_samples_split': 2,\n",
       " 'n_estimators': 450}"
      ]
     },
     "execution_count": 8,
     "metadata": {},
     "output_type": "execute_result"
    }
   ],
   "source": [
    "gs1.best_params_"
   ]
  },
  {
   "cell_type": "code",
   "execution_count": 9,
   "metadata": {},
   "outputs": [
    {
     "data": {
      "text/plain": [
       "0.9663124867604665"
      ]
     },
     "execution_count": 9,
     "metadata": {},
     "output_type": "execute_result"
    }
   ],
   "source": [
    "gs1.best_score_"
   ]
  },
  {
   "cell_type": "code",
   "execution_count": 6,
   "metadata": {},
   "outputs": [],
   "source": [
    "rfc_best = RandomForestClassifier(n_estimators=450, min_samples_split=2,max_features=0.7,criterion = 'entropy',oob_score = True)"
   ]
  },
  {
   "cell_type": "code",
   "execution_count": 11,
   "metadata": {},
   "outputs": [
    {
     "data": {
      "text/plain": [
       "RandomForestClassifier(bootstrap=True, class_weight=None, criterion='entropy',\n",
       "                       max_depth=None, max_features=0.7, max_leaf_nodes=None,\n",
       "                       min_impurity_decrease=0.0, min_impurity_split=None,\n",
       "                       min_samples_leaf=1, min_samples_split=2,\n",
       "                       min_weight_fraction_leaf=0.0, n_estimators=450,\n",
       "                       n_jobs=None, oob_score=True, random_state=None,\n",
       "                       verbose=0, warm_start=False)"
      ]
     },
     "execution_count": 11,
     "metadata": {},
     "output_type": "execute_result"
    }
   ],
   "source": [
    "rfc_best.fit(Xtrain,ytrain)"
   ]
  },
  {
   "cell_type": "code",
   "execution_count": 12,
   "metadata": {},
   "outputs": [
    {
     "data": {
      "text/plain": [
       "0.9661068983513953"
      ]
     },
     "execution_count": 12,
     "metadata": {},
     "output_type": "execute_result"
    }
   ],
   "source": [
    "rfc_best.oob_score_"
   ]
  },
  {
   "cell_type": "code",
   "execution_count": 13,
   "metadata": {},
   "outputs": [
    {
     "data": {
      "text/plain": [
       "1.0"
      ]
     },
     "execution_count": 13,
     "metadata": {},
     "output_type": "execute_result"
    }
   ],
   "source": [
    "rfc_best.score(Xtrain,ytrain)"
   ]
  },
  {
   "cell_type": "code",
   "execution_count": 14,
   "metadata": {},
   "outputs": [
    {
     "data": {
      "text/plain": [
       "0.9662754174243676"
      ]
     },
     "execution_count": 14,
     "metadata": {},
     "output_type": "execute_result"
    }
   ],
   "source": [
    "rfc_best.score(Xval,yval)"
   ]
  },
  {
   "cell_type": "code",
   "execution_count": 15,
   "metadata": {},
   "outputs": [
    {
     "data": {
      "text/plain": [
       "0.9670876486135145"
      ]
     },
     "execution_count": 15,
     "metadata": {},
     "output_type": "execute_result"
    }
   ],
   "source": [
    "rfc_best.score(Xtest,ytest)"
   ]
  },
  {
   "cell_type": "markdown",
   "metadata": {},
   "source": [
    "### Parameter Sensitivity Analysis"
   ]
  },
  {
   "cell_type": "code",
   "execution_count": 8,
   "metadata": {},
   "outputs": [
    {
     "name": "stdout",
     "output_type": "stream",
     "text": [
      "50\n",
      "Time: 124.72827792167664\n",
      "150\n",
      "Time: 458.59120869636536\n",
      "250\n",
      "Time: 1010.5879955291748\n",
      "350\n",
      "Time: 1793.8527176380157\n",
      "450\n",
      "Time: 3053.6532089710236\n"
     ]
    }
   ],
   "source": [
    "n_estimators = 450\n",
    "min_samples_split = 2\n",
    "max_features = 0.7\n",
    "\n",
    "val_acc = []\n",
    "test_acc = []\n",
    "estimator = []\n",
    "start = time.time()\n",
    "\n",
    "for i in range(50,500,100):\n",
    "    rf = RandomForestClassifier(n_estimators = i, min_samples_split=2, max_features=0.7,criterion = 'entropy')\n",
    "    rf.fit(Xtrain,ytrain)\n",
    "    val_acc.append(rf.score(Xval,yval))\n",
    "    test_acc.append(rf.score(Xtest,ytest))\n",
    "    estimator.append(i)\n",
    "    print(i)\n",
    "    end = time.time()\n",
    "    print(\"Time:\",end-start)"
   ]
  },
  {
   "cell_type": "code",
   "execution_count": 9,
   "metadata": {},
   "outputs": [
    {
     "data": {
      "image/png": "[encoded data removed]",
      "text/plain": [
       "<Figure size 576x288 with 1 Axes>"
      ]
     },
     "metadata": {
      "needs_background": "light"
     },
     "output_type": "display_data"
    }
   ],
   "source": [
    "fig,ax = plt.subplots(figsize = (8,4))\n",
    "ax.plot(estimator,val_acc,label = 'Validation Accuracy')\n",
    "ax.plot(estimator,test_acc,label = 'Test Accuracy')\n",
    "ax.set_xlabel(\"No. of Estimators (Optimal : 450)\")\n",
    "ax.set_title(\"Varying the number of Estimators, max_features = 0.7, min_samples_split = 2\")\n",
    "ax.legend(loc = 'best')\n",
    "fig.savefig('../output/q1/estimator.png',dpi = 200)"
   ]
  },
  {
   "cell_type": "code",
   "execution_count": 8,
   "metadata": {},
   "outputs": [
    {
     "name": "stdout",
     "output_type": "stream",
     "text": [
      "2\n",
      "Time: 1069.6500492095947\n",
      "4\n",
      "Time: 2072.1090450286865\n",
      "6\n",
      "Time: 3023.8372435569763\n",
      "8\n",
      "Time: 3970.0040068626404\n",
      "10\n",
      "Time: 4913.718044757843\n"
     ]
    }
   ],
   "source": [
    "n_estimators = 450\n",
    "min_samples_split = 2\n",
    "max_features = 0.7\n",
    "\n",
    "val_acc_1 = []\n",
    "test_acc_1 = []\n",
    "estimator_1 = []\n",
    "start = time.time()\n",
    "for i in range(2,12,2):\n",
    "    rf = RandomForestClassifier(n_estimators = 450, min_samples_split=i, max_features=0.7,criterion = 'entropy')\n",
    "    rf.fit(Xtrain,ytrain)\n",
    "    val_acc_1.append(rf.score(Xval,yval))\n",
    "    test_acc_1.append(rf.score(Xtest,ytest))\n",
    "    estimator_1.append(i)\n",
    "    end = time.time()\n",
    "    print(i)\n",
    "    print(\"Time:\",end-start)"
   ]
  },
  {
   "cell_type": "code",
   "execution_count": 9,
   "metadata": {},
   "outputs": [
    {
     "data": {
      "image/png": "[encoded data removed]",
      "text/plain": [
       "<Figure size 576x288 with 1 Axes>"
      ]
     },
     "metadata": {
      "needs_background": "light"
     },
     "output_type": "display_data"
    }
   ],
   "source": [
    "fig,ax = plt.subplots(figsize = (8,4))\n",
    "ax.plot(estimator_1,val_acc_1,label = 'Validation Accuracy')\n",
    "ax.plot(estimator_1,test_acc_1,label = 'Test Accuracy')\n",
    "ax.set_xlabel(\"Min_samples_split (Optimal : 2)\")\n",
    "ax.set_title(\"Varying the number of min_samples_split, max_features = 0.7, estimators = 450\")\n",
    "ax.legend(loc = 'best')\n",
    "fig.savefig('../output/q1/min_samples_split.png',dpi = 200)"
   ]
  },
  {
   "cell_type": "code",
   "execution_count": 5,
   "metadata": {},
   "outputs": [
    {
     "name": "stdout",
     "output_type": "stream",
     "text": [
      "0.1\n",
      "Time: 288.17009568214417\n",
      "0.3\n",
      "Time: 779.8311583995819\n",
      "0.5\n",
      "Time: 1516.6239280700684\n",
      "0.7\n",
      "Time: 2468.8102598190308\n",
      "0.9\n",
      "Time: 3653.641505241394\n"
     ]
    }
   ],
   "source": [
    "n_estimators = 450\n",
    "min_samples_split = 2\n",
    "max_features = [0.1,0.3,0.5,0.7,0.9]\n",
    "\n",
    "val_acc_2 = []\n",
    "test_acc_2 = []\n",
    "estimator_2 = []\n",
    "start = time.time()\n",
    "for i in max_features:\n",
    "    rf = RandomForestClassifier(n_estimators = 450, min_samples_split=2, max_features=i,criterion = 'entropy')\n",
    "    rf.fit(Xtrain,ytrain)\n",
    "    val_acc_2.append(rf.score(Xval,yval))\n",
    "    test_acc_2.append(rf.score(Xtest,ytest))\n",
    "    estimator_2.append(i)\n",
    "    end = time.time()\n",
    "    print(i)\n",
    "    print(\"Time:\",end-start)"
   ]
  },
  {
   "cell_type": "code",
   "execution_count": 7,
   "metadata": {},
   "outputs": [
    {
     "data": {
      "image/png": "[encoded data removed]",
      "text/plain": [
       "<Figure size 576x288 with 1 Axes>"
      ]
     },
     "metadata": {
      "needs_background": "light"
     },
     "output_type": "display_data"
    }
   ],
   "source": [
    "fig,ax = plt.subplots(figsize = (8,4))\n",
    "ax.plot(estimator_2,val_acc_2,label = 'Validation Accuracy')\n",
    "ax.plot(estimator_2,test_acc_2,label = 'Test Accuracy')\n",
    "ax.set_xlabel(\"Max-Features (Optimal : 0.7)\")\n",
    "ax.set_title(\"Varying max-features, min_samples_split = 2, estimators = 450\")\n",
    "ax.legend(loc = 'best')\n",
    "fig.savefig('../output/q1/max_features.png',dpi = 200)"
   ]
  },
  {
   "cell_type": "code",
   "execution_count": null,
   "metadata": {},
   "outputs": [],
   "source": []
  }
 ],
 "metadata": {
  "kernelspec": {
   "display_name": "Python 3",
   "language": "python",
   "name": "python3"
  },
  "language_info": {
   "codemirror_mode": {
    "name": "ipython",
    "version": 3
   },
   "file_extension": ".py",
   "mimetype": "text/x-python",
   "name": "python",
   "nbconvert_exporter": "python",
   "pygments_lexer": "ipython3",
   "version": "3.7.4"
  }
 },
 "nbformat": 4,
 "nbformat_minor": 2
}
